{
 "cells": [
  {
   "cell_type": "code",
   "execution_count": null,
   "id": "980d5005-5500-4df2-a74f-f66e9e682c04",
   "metadata": {},
   "outputs": [],
   "source": [
    "if condition1:\n",
    "    task1 block of code\n",
    "elif condition2:\n",
    "    task2 block of code\n",
    "elif condition3:\n",
    "    task3 block of code\n",
    "else:\n",
    "    task4 block of code"
   ]
  },
  {
   "cell_type": "code",
   "execution_count": 2,
   "id": "91940029-e6cb-4b4f-a670-a7c24b5b23f7",
   "metadata": {},
   "outputs": [
    {
     "data": {
      "text/plain": [
       "False"
      ]
     },
     "execution_count": 2,
     "metadata": {},
     "output_type": "execute_result"
    }
   ],
   "source": [
    "9%2==0"
   ]
  },
  {
   "cell_type": "code",
   "execution_count": 3,
   "id": "d11864fd-9b75-4c0c-9409-9c43473cfada",
   "metadata": {},
   "outputs": [
    {
     "data": {
      "text/plain": [
       "True"
      ]
     },
     "execution_count": 3,
     "metadata": {},
     "output_type": "execute_result"
    }
   ],
   "source": [
    "8%2==0"
   ]
  },
  {
   "cell_type": "code",
   "execution_count": 4,
   "id": "584434ad-6647-41a8-b578-7d193548be32",
   "metadata": {},
   "outputs": [
    {
     "data": {
      "text/plain": [
       "True"
      ]
     },
     "execution_count": 4,
     "metadata": {},
     "output_type": "execute_result"
    }
   ],
   "source": [
    "10%2==0"
   ]
  },
  {
   "cell_type": "code",
   "execution_count": 1,
   "id": "af58604b-b27d-4f57-a953-31a949f88f7c",
   "metadata": {},
   "outputs": [
    {
     "name": "stdout",
     "output_type": "stream",
     "text": [
      "Odd\n"
     ]
    }
   ],
   "source": [
    "x=9\n",
    "if x%2==0:\n",
    "    print(\"Even\")\n",
    "else:\n",
    "    print(\"Odd\")\n"
   ]
  },
  {
   "cell_type": "code",
   "execution_count": 5,
   "id": "e6abcf88-9bc5-45c9-8dfe-09ea391483d8",
   "metadata": {},
   "outputs": [
    {
     "data": {
      "text/plain": [
       "'Bunny'"
      ]
     },
     "execution_count": 5,
     "metadata": {},
     "output_type": "execute_result"
    }
   ],
   "source": [
    "y='Bunny'\n",
    "y"
   ]
  },
  {
   "cell_type": "markdown",
   "id": "7cff9c95-e6ab-4685-be6a-44cda460c0d0",
   "metadata": {},
   "source": [
    "### .isalpha method for the string , and the output will be in the form of boolean i.e true or false"
   ]
  },
  {
   "cell_type": "code",
   "execution_count": 6,
   "id": "03ab35e9-6948-43eb-b200-b8654eafb187",
   "metadata": {},
   "outputs": [
    {
     "data": {
      "text/plain": [
       "True"
      ]
     },
     "execution_count": 6,
     "metadata": {},
     "output_type": "execute_result"
    }
   ],
   "source": [
    "y.isalpha()"
   ]
  },
  {
   "cell_type": "code",
   "execution_count": 7,
   "id": "bc25fdab-a651-4422-b1ee-0d25126fc219",
   "metadata": {},
   "outputs": [
    {
     "data": {
      "text/plain": [
       "'bunny18'"
      ]
     },
     "execution_count": 7,
     "metadata": {},
     "output_type": "execute_result"
    }
   ],
   "source": [
    "y='bunny18'\n",
    "y"
   ]
  },
  {
   "cell_type": "code",
   "execution_count": 8,
   "id": "64dc351e-4fe1-4b8e-afd7-802b4cbe2820",
   "metadata": {},
   "outputs": [
    {
     "data": {
      "text/plain": [
       "False"
      ]
     },
     "execution_count": 8,
     "metadata": {},
     "output_type": "execute_result"
    }
   ],
   "source": [
    "y.isalpha()"
   ]
  },
  {
   "cell_type": "code",
   "execution_count": 9,
   "id": "f98e2460-c880-45a5-b4c2-ad0079be6104",
   "metadata": {},
   "outputs": [],
   "source": [
    "name='Ashwi'"
   ]
  },
  {
   "cell_type": "code",
   "execution_count": 10,
   "id": "52884e1c-5e65-446e-b7b1-3c8a693b52eb",
   "metadata": {},
   "outputs": [
    {
     "name": "stdout",
     "output_type": "stream",
     "text": [
      "Accept\n"
     ]
    }
   ],
   "source": [
    "if name.isalpha()==True:\n",
    "    print('Accept')\n",
    "else:\n",
    "    print('Name should not contain digits and symbols')"
   ]
  },
  {
   "cell_type": "code",
   "execution_count": 11,
   "id": "b067da99-8c94-405d-aa32-daf32d113121",
   "metadata": {},
   "outputs": [
    {
     "data": {
      "text/plain": [
       "'Ashwi'"
      ]
     },
     "execution_count": 11,
     "metadata": {},
     "output_type": "execute_result"
    }
   ],
   "source": [
    "name"
   ]
  },
  {
   "cell_type": "markdown",
   "id": "2c908092-aacd-4bd3-9ce1-45d47789cfa5",
   "metadata": {},
   "source": [
    "### .lower function makes all the letters string into lowercase letters\n",
    "### .upper function makes all the letters string into uppercase letters\n",
    "### output will be ether True or False"
   ]
  },
  {
   "cell_type": "code",
   "execution_count": 13,
   "id": "b0050a55-3a9a-4734-9e5f-2ae65d2a78c7",
   "metadata": {},
   "outputs": [
    {
     "data": {
      "text/plain": [
       "'bunny'"
      ]
     },
     "execution_count": 13,
     "metadata": {},
     "output_type": "execute_result"
    }
   ],
   "source": [
    "name=\"BUnny\"\n",
    "name.lower()"
   ]
  },
  {
   "cell_type": "code",
   "execution_count": 14,
   "id": "7656ca9e-da0d-4203-9838-d5f8514fbec9",
   "metadata": {},
   "outputs": [
    {
     "data": {
      "text/plain": [
       "'BUNNY'"
      ]
     },
     "execution_count": 14,
     "metadata": {},
     "output_type": "execute_result"
    }
   ],
   "source": [
    "name.upper()"
   ]
  },
  {
   "cell_type": "code",
   "execution_count": 15,
   "id": "e58ac5d0-b858-469c-85a1-de8ec188e1aa",
   "metadata": {},
   "outputs": [
    {
     "data": {
      "text/plain": [
       "True"
      ]
     },
     "execution_count": 15,
     "metadata": {},
     "output_type": "execute_result"
    }
   ],
   "source": [
    "bool(2818)"
   ]
  },
  {
   "cell_type": "code",
   "execution_count": 16,
   "id": "0bd4c037-fa08-45f0-b136-353a871f2d86",
   "metadata": {},
   "outputs": [
    {
     "data": {
      "text/plain": [
       "'Hyderabad'"
      ]
     },
     "execution_count": 16,
     "metadata": {},
     "output_type": "execute_result"
    }
   ],
   "source": [
    "x='Hyderabad'\n",
    "x"
   ]
  },
  {
   "cell_type": "code",
   "execution_count": 28,
   "id": "197132fb-b957-4042-9f08-76241ead2f45",
   "metadata": {},
   "outputs": [
    {
     "name": "stdout",
     "output_type": "stream",
     "text": [
      "Yes , mumbai starts with the letter 'M'.\n"
     ]
    }
   ],
   "source": [
    "city = \"Mumbai\"\n",
    "if starts_with_m:\n",
    "    print(\"Yes , mumbai starts with the letter 'M'.\")\n",
    "else:\n",
    "    print(\"No, mumbai does not start with the letter 'M'.\")\n"
   ]
  },
  {
   "cell_type": "code",
   "execution_count": 31,
   "id": "c393d994-7f25-443e-8dfc-6782875977ce",
   "metadata": {},
   "outputs": [
    {
     "name": "stdout",
     "output_type": "stream",
     "text": [
      "no\n"
     ]
    }
   ],
   "source": [
    "x='Hyderabad'\n",
    "if x[0]=='n':\n",
    "    print(\"yes\")\n",
    "else:\n",
    "    print(\"no\")\n"
   ]
  },
  {
   "cell_type": "code",
   "execution_count": 41,
   "id": "c6ec432f-f3b5-4759-ae25-3991bace7a89",
   "metadata": {},
   "outputs": [
    {
     "name": "stdout",
     "output_type": "stream",
     "text": [
      "yes\n",
      "yes\n",
      "yes\n"
     ]
    }
   ],
   "source": [
    "x='Hyderabad'\n",
    "y='manipur'\n",
    "z='goa'\n",
    "if x[0]=='H':\n",
    "    print(\"yes\")\n",
    "else:\n",
    "    print(\"no\")\n",
    "if y[0]=='m':\n",
    "    print(\"yes\")\n",
    "else:\n",
    "    print(\"no\")\n",
    "if z[0]=='g':\n",
    "    print(\"yes\")\n",
    "else:\n",
    "    print(\"no\")\n",
    "\n",
    "\n"
   ]
  },
  {
   "cell_type": "code",
   "execution_count": 42,
   "id": "d3d50a8f-ccb9-406e-925b-070808e40c79",
   "metadata": {},
   "outputs": [
    {
     "name": "stdout",
     "output_type": "stream",
     "text": [
      "no\n"
     ]
    }
   ],
   "source": [
    "##or\n",
    "x='telangana'\n",
    "if x[0].lower()=='h' or x[0].lower()=='g' or x[0].lower()=='m':\n",
    "    print(\"yes\")\n",
    "else:\n",
    "    print(\"no\")\n"
   ]
  },
  {
   "cell_type": "code",
   "execution_count": null,
   "id": "8cfe076c-14e9-467d-b700-e0ff81814ff5",
   "metadata": {},
   "outputs": [],
   "source": []
  }
 ],
 "metadata": {
  "kernelspec": {
   "display_name": "Python 3 (ipykernel)",
   "language": "python",
   "name": "python3"
  },
  "language_info": {
   "codemirror_mode": {
    "name": "ipython",
    "version": 3
   },
   "file_extension": ".py",
   "mimetype": "text/x-python",
   "name": "python",
   "nbconvert_exporter": "python",
   "pygments_lexer": "ipython3",
   "version": "3.12.7"
  }
 },
 "nbformat": 4,
 "nbformat_minor": 5
}
